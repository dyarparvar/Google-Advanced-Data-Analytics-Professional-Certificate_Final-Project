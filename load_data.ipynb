{
 "cells": [
  {
   "cell_type": "markdown",
   "id": "1c7c9932-048f-4e85-9984-63c5d453497a",
   "metadata": {},
   "source": [
    "#### Data source\n",
    "https://opendata.nhsbsa.net/dataset/english-prescribing-data-epd\n",
    "\n"
   ]
  },
  {
   "cell_type": "markdown",
   "id": "7724b923-211e-4406-af7a-8af2154bb722",
   "metadata": {},
   "source": [
    "### Identifying High-Prescription Regions (Clustering)\n",
    "Goal: Group UK regions based on their prescribing behavior."
   ]
  },
  {
   "cell_type": "markdown",
   "id": "9bfe10dc-f5f1-4256-97ad-10c9ff16fcde",
   "metadata": {},
   "source": [
    "#### Load the data"
   ]
  },
  {
   "cell_type": "code",
   "execution_count": 2,
   "id": "b552064d-91f6-47a1-a069-636d851e2044",
   "metadata": {},
   "outputs": [],
   "source": [
    "# For data manipulation\n",
    "import numpy as np\n",
    "import pandas as pd\n",
    "import dask.dataframe as dd\n",
    "\n",
    "# For data visualization\n",
    "import matplotlib.pyplot as plt\n",
    "import seaborn as sns\n",
    "\n",
    "# For displaying all of the columns in dataframes\n",
    "pd.set_option('display.max_columns', None)\n",
    "\n",
    "# For data modeling\n",
    "from xgboost import XGBClassifier\n",
    "from xgboost import XGBRegressor\n",
    "from xgboost import plot_importance\n",
    "\n",
    "from sklearn.linear_model import LogisticRegression\n",
    "from sklearn.tree import DecisionTreeClassifier\n",
    "from sklearn.ensemble import RandomForestClassifier\n",
    "\n",
    "# For metrics and helpful functions\n",
    "from sklearn.model_selection import GridSearchCV, train_test_split\n",
    "from sklearn.metrics import accuracy_score, precision_score, recall_score,\\\n",
    "f1_score, confusion_matrix, ConfusionMatrixDisplay, classification_report\n",
    "from sklearn.metrics import roc_auc_score, roc_curve\n",
    "from sklearn.tree import plot_tree\n",
    "\n",
    "# For saving models\n",
    "import pickle\n",
    "\n",
    "# For deleting unused variables\n",
    "import gc"
   ]
  },
  {
   "cell_type": "markdown",
   "id": "094811a0-8f65-44b4-ac58-65ba2b09cf30",
   "metadata": {},
   "source": [
    "#### Data dictionary\n",
    "\n",
    "| **Column**                          | **Title**                                                        | **Type**   | **Description**                                                                                                                                                                                                                                                                                        |\n",
    "|-------------------------------------|------------------------------------------------------------------|------------|--------------------------------------------------------------------------------------------------------------------------------------------------------------------------------------------------------------------------------------------------------------------------------------------------------|\n",
    "| `YEAR_MONTH`                        | Year and Month as YYYYMM                                         | number     | Example: 201401                                                                                                                                                                                                                                                                                          |\n",
    "| `REGIONAL_OFFICE_NAME`              | Regional Office Name                                             | string     | The name given to a geographical region by NHS England. Each region supports local systems to provide more joined-up care for patients.                                                                                                                                                                   |\n",
    "| `REGIONAL_OFFICE_CODE`              | Regional Office Code                                             | string     | The unique code used to refer to a Regional Office.                                                                                                                                                                                                                                                     |\n",
    "| `ICB_NAME`                          | Integrated Care Board (ICB) Name                                 | string     | The name given to a geographical statutory organisation by NHS England that is a smaller division of a Region.                                                                                                                                                                                           |\n",
    "| `ICB_CODE`                          | Integrated Care Board (ICB) Code                                 | string     | The unique code used to refer to an ICB.                                                                                                                                                                                                                                                                    |\n",
    "| `PCO_NAME`                          | Primary Care Organisation Name                                   | string     | An NHS organisation that commissions or provides care services involving prescriptions that are dispensed in the community.                                                                                                                                                                            |\n",
    "| `PCO_CODE`                          | Primary Care Organisation Code                                   | string     | The unique code used to refer to a Primary Care Organisation.                                                                                                                                                                                                                                            |\n",
    "| `PRACTICE_NAME`                     | Practice Name                                                    | string     | The name of an organisation that employs one or more prescribers who issue prescriptions that may be dispensed in the community.                                                                                                                                                                          |\n",
    "| `PRACTICE_CODE`                     | Practice Code                                                    | string     | The unique code used to refer to a Practice.                                                                                                                                                                                                                                                               |\n",
    "| `ADDRESS_1`                         | Address Field 1                                                  | string     | The Address used by a Practice. This data is supplied by Primary Care Support England (PSCE), NHS England ICBs or the SICBL, whenever a new practice is opened or if a change of details is required.                                                                                                   |\n",
    "| `ADDRESS_2`                         | Address Field 2                                                  | string     | The Address used by a Practice. This data is supplied by Primary Care Support England (PSCE), NHS England ICBs or the SICBL, whenever a new practice is opened or if a change of details is required.                                                                                                   |\n",
    "| `ADDRESS_3`                         | Address Field 3                                                  | string     | The Address used by a Practice. This data is supplied by Primary Care Support England (PSCE), NHS England ICBs or the SICBL, whenever a new practice is opened or if a change of details is required.                                                                                                   |\n",
    "| `ADDRESS_4`                         | Address Field 4                                                  | string     | The Address used by a Practice. This data is supplied by Primary Care Support England (PSCE), NHS England ICBs or the SICBL, whenever a new practice is opened or if a change of details is required.                                                                                                   |\n",
    "| `POSTCODE`                          | Post Code                                                        | string     | The Address used by a Practice. This data is supplied by Primary Care Support England (PSCE), NHS England ICBs or the SICBL, whenever a new practice is opened or if a change of details is required.                                                                                                   |\n",
    "| `BNF_CHEMICAL_SUBSTANCE`            | British National Formulary (BNF) Chemical Substance Code        | string     | A unique code used to refer to a BNF Chemical Substance. For example, 0501013B0                                                                                                                                                                                                                           |\n",
    "| `CHEMICAL_SUBSTANCE_BNF_DESCR`      | British National Formulary (BNF) Chemical Substance Description | string     | The name of the main active ingredient in a drug or the type of an appliance. Determined by the British National Formulary (BNF) for drugs, or the NHS BSA for appliances. For example, Amoxicillin                                                                                                     |\n",
    "| `BNF_CODE`                          | British National Formulary (BNF) Code                            | string     | The unique code used to refer to a BNF Presentation. For example, 0501013B0AAABAB                                                                                                                                                                                                                        |\n",
    "| `BNF_DESCRIPTION`                   | British National Formulary (BNF) Description                     | string     | The name given to the specific type, strength, and formulation of a drug; or, the specific type of an appliance. For example, Amoxicillin 500mg capsules                                                                                         |\n",
    "| `BNF_CHAPTER_PLUS_CODE`             | British National Formulary (BNF) Chapter Code                    | string     | The name given to a British National Formulary (BNF) Chapter that includes the prescribed product. Includes the numerical code used to refer to the chapter. For example, 05: Infections                                                                                                             |\n",
    "| `QUANTITY`                          | Quantity                                                         | number     | The quantity of a medicine, dressing or appliance for which an individual item was prescribed and dispensed, for each BNF Presentation. Example: 28 for Amoxicillin 500mg capsules                                                                                                                   |\n",
    "| `ITEMS`                             | Items                                                            | number     | The number of times a product appears on a prescription form. Prescription forms include both paper prescriptions and electronic messages.                                                                                                                                                              |\n",
    "| `TOTAL_QUANTITY`                    | Total Quantity                                                   | number     | The total quantity of a drug or appliance that was prescribed. Calculated by multiplying Quantity by Items. Example: If 2 items of Amoxicillin 500mg capsules with a quantity of 28 were prescribed, total quantity = 56.                            |\n",
    "| `ADQUSAGE`                          | Average Daily Quantity (ADQ)                                     | number     | The typical daily dose of a medication, prescribed to adult patients by GP Practices. The field shows the quantity prescribed multiplied by the strength, divided by the Average Daily Quantity value.                                                                                                 |\n",
    "| `NIC`                               | Net Ingredient Cost (NIC)                                        | number     | In GBP. The amount paid using the basic price of the prescribed drug or appliance and the quantity prescribed.                                                                                                                                                                                              |\n",
    "| `ACTUAL_COST`                       | Actual Cost                                                      | number     | In GBP. The basic cost after adjustment for the national average discount and some payments to the dispenser. The calculation is: Net Ingredient Cost - National Average Discount Percentage + (payment for consumables + out-of-pocket expenses)    |\n",
    "| `UNIDENTIFIED`                      | Unidentified                                                     | string     | This field shows data from prescription forms that could not be allocated to a Practice.                                                                                                                                                                                                                   |\n"
   ]
  },
  {
   "cell_type": "code",
   "execution_count": null,
   "id": "8e6abb46-1a6b-4fbf-82be-129348955caf",
   "metadata": {},
   "outputs": [],
   "source": [
    "# Define the dtypes explicitly to avoid issues with mismatched data types\n",
    "dtypes = {\n",
    "    'YEAR_MONTH': 'int64',  # Year and month should be treated as integers\n",
    "    'REGIONAL_OFFICE_NAME': 'object',  # Treat as string (object) for name columns\n",
    "    'REGIONAL_OFFICE_CODE': 'object',  # Treat as string (object) for code columns\n",
    "    'ICB_NAME': 'object',  # Treat as string (object)\n",
    "    'ICB_CODE': 'object',  # Treat as string (object)\n",
    "    'PCO_NAME': 'object',  # Treat as string (object)\n",
    "    'PCO_CODE': 'object',  # Treat as string (object)\n",
    "    'PRACTICE_NAME': 'object',  # Treat as string (object)\n",
    "    'PRACTICE_CODE': 'object',  # Treat as string (object)\n",
    "    'ADDRESS_1': 'object',  # Treat as string (object)\n",
    "    'ADDRESS_2': 'object',  # Treat as string (object)\n",
    "    'ADDRESS_3': 'object',  # Treat as string (object)\n",
    "    'ADDRESS_4': 'object',  # Treat as string (object)\n",
    "    'POSTCODE': 'object',  # Treat as string (object) for postcode\n",
    "    'BNF_CHEMICAL_SUBSTANCE': 'object',  # Ensure BNF_CHEMICAL_SUBSTANCE is treated as a string\n",
    "    'CHEMICAL_SUBSTANCE_BNF_DESCR': 'object',  # Treat as string (object)\n",
    "    'BNF_CODE': 'object',  # Ensure BNF_CODE is treated as a string\n",
    "    'BNF_DESCRIPTION': 'object',  # Treat as string (object)\n",
    "    'BNF_CHAPTER_PLUS_CODE': 'object',  # Treat as string (object)\n",
    "    'QUANTITY': 'float64',  # Quantity should be numeric, float to handle decimals if any\n",
    "    'ITEMS': 'int64',  # Items should be treated as integers\n",
    "    'TOTAL_QUANTITY': 'float64',  # Total Quantity should be numeric, float\n",
    "    'ADQUSAGE': 'float64',  # Ensure ADQUSAGE is treated as float\n",
    "    'NIC': 'float64',  # NIC should be numeric, float\n",
    "    'ACTUAL_COST': 'float64',  # ACTUAL_COST should be numeric, float\n",
    "    'UNIDENTIFIED': 'object'  # Treat as string (object) for unidentified entries\n",
    "}\n"
   ]
  },
  {
   "cell_type": "code",
   "execution_count": null,
   "id": "e69ea38c-536c-4ac4-9f32-7747df325ef3",
   "metadata": {},
   "outputs": [],
   "source": [
    "df_raw_Dec = dd.read_csv(\"data/epd_202412.csv\", dtype=dtypes)"
   ]
  },
  {
   "cell_type": "code",
   "execution_count": null,
   "id": "0f4f9dd1-556a-44a9-9c3f-95125d0f3066",
   "metadata": {},
   "outputs": [],
   "source": [
    "df_raw_Nov = dd.read_csv(\"data/epd_202411.csv\", dtype=dtypes)"
   ]
  },
  {
   "cell_type": "code",
   "execution_count": null,
   "id": "b5d036f1-5a24-4fdb-b0da-3f24d80382ed",
   "metadata": {},
   "outputs": [],
   "source": [
    "df_raw_Oct = dd.read_csv(\"data/epd_202410.csv\", dtype=dtypes)"
   ]
  },
  {
   "cell_type": "code",
   "execution_count": null,
   "id": "e15fabc2-2e29-45de-bb1d-301cdd6985b0",
   "metadata": {},
   "outputs": [],
   "source": [
    "df_raw_Sep = dd.read_csv(\"data/epd_202409.csv\", dtype=dtypes)"
   ]
  },
  {
   "cell_type": "code",
   "execution_count": null,
   "id": "5ca1d0ed-375a-4a27-8497-d9fde285e503",
   "metadata": {},
   "outputs": [],
   "source": [
    "df_raw_Aug = dd.read_csv(\"data/epd_202408.csv\", dtype=dtypes)"
   ]
  },
  {
   "cell_type": "code",
   "execution_count": null,
   "id": "3432bc3f-2c5f-46ef-81af-5a09de679748",
   "metadata": {},
   "outputs": [],
   "source": [
    "df_raw_Jul = pd.read_csv(\"data/epd_202407.csv\", dtype=dtypes)"
   ]
  },
  {
   "cell_type": "code",
   "execution_count": null,
   "id": "f29a1f07-24f4-434f-812c-48d773269d58",
   "metadata": {},
   "outputs": [],
   "source": [
    "df_raw_Jun = dd.read_csv(\"data/epd_202406.csv\", dtype=dtypes)"
   ]
  },
  {
   "cell_type": "code",
   "execution_count": null,
   "id": "4ff04820-acc2-4953-b57c-30fe956defdf",
   "metadata": {},
   "outputs": [],
   "source": [
    "df_raw_May = dd.read_csv(\"data/epd_202405.csv\", dtype=dtypes)"
   ]
  },
  {
   "cell_type": "code",
   "execution_count": null,
   "id": "0109604b-a08a-4e9f-9fcf-4f0c815d6e4f",
   "metadata": {},
   "outputs": [],
   "source": [
    "df_raw_Apr = dd.read_csv(\"data/epd_202404.csv\", dtype=dtypes)"
   ]
  },
  {
   "cell_type": "code",
   "execution_count": null,
   "id": "ee9ee335-95f1-4092-93a9-4e0ce58ced8b",
   "metadata": {},
   "outputs": [],
   "source": [
    "df_raw_Mar = dd.read_csv(\"data/epd_202403.csv\", dtype=dtypes)"
   ]
  },
  {
   "cell_type": "code",
   "execution_count": null,
   "id": "c8d504ed-ca1f-48e2-a134-b83e8982f00e",
   "metadata": {},
   "outputs": [],
   "source": [
    "df_raw_Feb = dd.read_csv(\"data/epd_202402.csv\", dtype=dtypes)"
   ]
  },
  {
   "cell_type": "code",
   "execution_count": null,
   "id": "e0dbea4c-20f8-42f4-a4d4-b3b1275ea9fb",
   "metadata": {},
   "outputs": [],
   "source": [
    "df_raw_Jan = dd.read_csv(\"data/epd_202401.csv\", dtype=dtypes)"
   ]
  },
  {
   "cell_type": "code",
   "execution_count": null,
   "id": "27b74db8-61d8-4f35-a603-1849b7c82e30",
   "metadata": {},
   "outputs": [],
   "source": [
    "df_list = [df_raw_Jan, df_raw_Feb, df_raw_Mar, df_raw_Apr, df_raw_May, df_raw_Jun, df_raw_Jul, df_raw_Aug, df_raw_Sep, df_raw_Oct, df_raw_Nov, df_raw_Dec]"
   ]
  },
  {
   "cell_type": "code",
   "execution_count": null,
   "id": "765e76f1-e3a1-4cbf-b025-33e482f41280",
   "metadata": {},
   "outputs": [],
   "source": [
    "del df_raw_Jan, df_raw_Feb, df_raw_Mar, df_raw_Apr, df_raw_May, df_raw_Jun, df_raw_Jul, df_raw_Aug, df_raw_Sep, df_raw_Oct, df_raw_Nov, df_raw_Dec"
   ]
  },
  {
   "cell_type": "code",
   "execution_count": null,
   "id": "ec34daa6-5aa4-48c9-b514-a2cb34adc7db",
   "metadata": {},
   "outputs": [],
   "source": [
    "gc.collect()"
   ]
  },
  {
   "cell_type": "code",
   "execution_count": null,
   "id": "14d8a90d-90ff-4c08-9d9f-3093bbadc4a6",
   "metadata": {},
   "outputs": [],
   "source": [
    "df_raw = dd.concat(df_list, axis=0, ignore_index=True)\n",
    "\n",
    "print(\"✅ Successfully merged all months!\")"
   ]
  },
  {
   "cell_type": "code",
   "execution_count": null,
   "id": "e344e13e-2c6a-40ef-9ac9-8b2f06d8b2da",
   "metadata": {},
   "outputs": [],
   "source": [
    "del df_list"
   ]
  },
  {
   "cell_type": "code",
   "execution_count": null,
   "id": "d297406d-2bba-44c8-898e-a353447a88cf",
   "metadata": {},
   "outputs": [],
   "source": [
    "gc.collect()"
   ]
  },
  {
   "cell_type": "code",
   "execution_count": null,
   "id": "b3aa7c5c-cbd9-4e62-a440-2d376314e3c2",
   "metadata": {},
   "outputs": [],
   "source": [
    "df_raw.columns"
   ]
  },
  {
   "cell_type": "markdown",
   "id": "3e324a0b-ce88-4dbf-9995-5ba0cc09f6ac",
   "metadata": {},
   "source": [
    "#### Trim the data\n",
    "Removing the columns that are either redundent or not useful for the purpose of the analysis.\n",
    "Where redundent, I kept the CODE version rather than the NAME.\n",
    "Reason: to decrease large amounts of data into the absolute necessary amounts"
   ]
  },
  {
   "cell_type": "code",
   "execution_count": null,
   "id": "1865a417-05f2-4d55-8b7a-813dea89d5a1",
   "metadata": {},
   "outputs": [],
   "source": [
    "df_raw = df_raw.drop(['REGIONAL_OFFICE_NAME', 'ICB_NAME', 'PCO_NAME', 'PRACTICE_NAME', 'ADDRESS_1', 'ADDRESS_2', 'ADDRESS_3', 'ADDRESS_4'], axis=1)"
   ]
  },
  {
   "cell_type": "code",
   "execution_count": null,
   "id": "136a3099-e431-4f16-95ee-b22019789ee7",
   "metadata": {},
   "outputs": [],
   "source": [
    "# Convert Dask DataFrames to Pandas DataFrames and concatenate them\n",
    "df_raw_computed = df_raw.compute()\n",
    "\n",
    "print(\"✅ Dataset successfully converted to Pandas DataFrame!\")"
   ]
  },
  {
   "cell_type": "code",
   "execution_count": null,
   "id": "c532f157-5663-4451-afbc-f13427976276",
   "metadata": {},
   "outputs": [],
   "source": [
    "# Save Dask DataFrame to Parquet with compression\n",
    "# df_raw_computed.to_parquet('data/data_raw.parquet', compression='snappy')\n",
    "\n",
    "print(\"✅ Data saved as Parquet with Snappy compression!\")"
   ]
  },
  {
   "cell_type": "code",
   "execution_count": 3,
   "id": "f15c20d3-4dd3-4b72-a891-b29adfe0aab3",
   "metadata": {},
   "outputs": [
    {
     "name": "stdout",
     "output_type": "stream",
     "text": [
      "✅ Data loaded successfully!\n"
     ]
    }
   ],
   "source": [
    "# Load the Parquet file with Dask\n",
    "data_loaded = dd.read_parquet('data/data_raw.parquet')\n",
    "\n",
    "# Convert to Pandas DataFrame\n",
    "data = data_loaded.compute()\n",
    "\n",
    "print(\"✅ Data loaded successfully!\")"
   ]
  }
 ],
 "metadata": {
  "kernelspec": {
   "display_name": "Python 3 (ipykernel)",
   "language": "python",
   "name": "python3"
  },
  "language_info": {
   "codemirror_mode": {
    "name": "ipython",
    "version": 3
   },
   "file_extension": ".py",
   "mimetype": "text/x-python",
   "name": "python",
   "nbconvert_exporter": "python",
   "pygments_lexer": "ipython3",
   "version": "3.13.0"
  }
 },
 "nbformat": 4,
 "nbformat_minor": 5
}
